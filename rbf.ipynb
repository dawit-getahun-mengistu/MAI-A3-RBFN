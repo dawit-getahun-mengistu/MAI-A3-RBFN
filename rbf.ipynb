{
 "cells": [
  {
   "cell_type": "markdown",
   "metadata": {},
   "source": [
    "Imports\n"
   ]
  },
  {
   "cell_type": "code",
   "execution_count": 1,
   "metadata": {},
   "outputs": [],
   "source": [
    "import numpy as np\n",
    "from scipy.io import arff\n",
    "import pandas as pd\n",
    "import matplotlib.pyplot as plt\n",
    "from sklearn.model_selection import train_test_split"
   ]
  },
  {
   "cell_type": "markdown",
   "metadata": {},
   "source": [
    "## Loading the Data and PreProcessing\n"
   ]
  },
  {
   "cell_type": "markdown",
   "metadata": {},
   "source": [
    "Load the data\n"
   ]
  },
  {
   "cell_type": "code",
   "execution_count": 2,
   "metadata": {},
   "outputs": [
    {
     "data": {
      "text/plain": [
       "{b'0', b'1'}"
      ]
     },
     "execution_count": 2,
     "metadata": {},
     "output_type": "execute_result"
    }
   ],
   "source": [
    "\n",
    "\n",
    "# Load ARFF file\n",
    "file_path = 'EEG Eye State.arff'\n",
    "data, meta = arff.loadarff(file_path)\n",
    "\n",
    "\n",
    "data = pd.DataFrame(data)\n",
    "\n",
    "set(list(data['eyeDetection']))"
   ]
  },
  {
   "cell_type": "markdown",
   "metadata": {},
   "source": [
    "Replace the string values for the labels with binary 0 and 1 values\n"
   ]
  },
  {
   "cell_type": "code",
   "execution_count": 3,
   "metadata": {},
   "outputs": [
    {
     "data": {
      "text/html": [
       "<div>\n",
       "<style scoped>\n",
       "    .dataframe tbody tr th:only-of-type {\n",
       "        vertical-align: middle;\n",
       "    }\n",
       "\n",
       "    .dataframe tbody tr th {\n",
       "        vertical-align: top;\n",
       "    }\n",
       "\n",
       "    .dataframe thead th {\n",
       "        text-align: right;\n",
       "    }\n",
       "</style>\n",
       "<table border=\"1\" class=\"dataframe\">\n",
       "  <thead>\n",
       "    <tr style=\"text-align: right;\">\n",
       "      <th></th>\n",
       "      <th>AF3</th>\n",
       "      <th>F7</th>\n",
       "      <th>F3</th>\n",
       "      <th>FC5</th>\n",
       "      <th>T7</th>\n",
       "      <th>P7</th>\n",
       "      <th>O1</th>\n",
       "      <th>O2</th>\n",
       "      <th>P8</th>\n",
       "      <th>T8</th>\n",
       "      <th>FC6</th>\n",
       "      <th>F4</th>\n",
       "      <th>F8</th>\n",
       "      <th>AF4</th>\n",
       "      <th>eyeDetection</th>\n",
       "    </tr>\n",
       "  </thead>\n",
       "  <tbody>\n",
       "    <tr>\n",
       "      <th>0</th>\n",
       "      <td>4329.23</td>\n",
       "      <td>4009.23</td>\n",
       "      <td>4289.23</td>\n",
       "      <td>4148.21</td>\n",
       "      <td>4350.26</td>\n",
       "      <td>4586.15</td>\n",
       "      <td>4096.92</td>\n",
       "      <td>4641.03</td>\n",
       "      <td>4222.05</td>\n",
       "      <td>4238.46</td>\n",
       "      <td>4211.28</td>\n",
       "      <td>4280.51</td>\n",
       "      <td>4635.90</td>\n",
       "      <td>4393.85</td>\n",
       "      <td>0</td>\n",
       "    </tr>\n",
       "    <tr>\n",
       "      <th>1</th>\n",
       "      <td>4324.62</td>\n",
       "      <td>4004.62</td>\n",
       "      <td>4293.85</td>\n",
       "      <td>4148.72</td>\n",
       "      <td>4342.05</td>\n",
       "      <td>4586.67</td>\n",
       "      <td>4097.44</td>\n",
       "      <td>4638.97</td>\n",
       "      <td>4210.77</td>\n",
       "      <td>4226.67</td>\n",
       "      <td>4207.69</td>\n",
       "      <td>4279.49</td>\n",
       "      <td>4632.82</td>\n",
       "      <td>4384.10</td>\n",
       "      <td>0</td>\n",
       "    </tr>\n",
       "    <tr>\n",
       "      <th>2</th>\n",
       "      <td>4327.69</td>\n",
       "      <td>4006.67</td>\n",
       "      <td>4295.38</td>\n",
       "      <td>4156.41</td>\n",
       "      <td>4336.92</td>\n",
       "      <td>4583.59</td>\n",
       "      <td>4096.92</td>\n",
       "      <td>4630.26</td>\n",
       "      <td>4207.69</td>\n",
       "      <td>4222.05</td>\n",
       "      <td>4206.67</td>\n",
       "      <td>4282.05</td>\n",
       "      <td>4628.72</td>\n",
       "      <td>4389.23</td>\n",
       "      <td>0</td>\n",
       "    </tr>\n",
       "    <tr>\n",
       "      <th>3</th>\n",
       "      <td>4328.72</td>\n",
       "      <td>4011.79</td>\n",
       "      <td>4296.41</td>\n",
       "      <td>4155.90</td>\n",
       "      <td>4343.59</td>\n",
       "      <td>4582.56</td>\n",
       "      <td>4097.44</td>\n",
       "      <td>4630.77</td>\n",
       "      <td>4217.44</td>\n",
       "      <td>4235.38</td>\n",
       "      <td>4210.77</td>\n",
       "      <td>4287.69</td>\n",
       "      <td>4632.31</td>\n",
       "      <td>4396.41</td>\n",
       "      <td>0</td>\n",
       "    </tr>\n",
       "    <tr>\n",
       "      <th>4</th>\n",
       "      <td>4326.15</td>\n",
       "      <td>4011.79</td>\n",
       "      <td>4292.31</td>\n",
       "      <td>4151.28</td>\n",
       "      <td>4347.69</td>\n",
       "      <td>4586.67</td>\n",
       "      <td>4095.90</td>\n",
       "      <td>4627.69</td>\n",
       "      <td>4210.77</td>\n",
       "      <td>4244.10</td>\n",
       "      <td>4212.82</td>\n",
       "      <td>4288.21</td>\n",
       "      <td>4632.82</td>\n",
       "      <td>4398.46</td>\n",
       "      <td>0</td>\n",
       "    </tr>\n",
       "    <tr>\n",
       "      <th>...</th>\n",
       "      <td>...</td>\n",
       "      <td>...</td>\n",
       "      <td>...</td>\n",
       "      <td>...</td>\n",
       "      <td>...</td>\n",
       "      <td>...</td>\n",
       "      <td>...</td>\n",
       "      <td>...</td>\n",
       "      <td>...</td>\n",
       "      <td>...</td>\n",
       "      <td>...</td>\n",
       "      <td>...</td>\n",
       "      <td>...</td>\n",
       "      <td>...</td>\n",
       "      <td>...</td>\n",
       "    </tr>\n",
       "    <tr>\n",
       "      <th>14975</th>\n",
       "      <td>4281.03</td>\n",
       "      <td>3990.26</td>\n",
       "      <td>4245.64</td>\n",
       "      <td>4116.92</td>\n",
       "      <td>4333.85</td>\n",
       "      <td>4614.36</td>\n",
       "      <td>4074.87</td>\n",
       "      <td>4625.64</td>\n",
       "      <td>4203.08</td>\n",
       "      <td>4221.54</td>\n",
       "      <td>4171.28</td>\n",
       "      <td>4269.23</td>\n",
       "      <td>4593.33</td>\n",
       "      <td>4340.51</td>\n",
       "      <td>1</td>\n",
       "    </tr>\n",
       "    <tr>\n",
       "      <th>14976</th>\n",
       "      <td>4276.92</td>\n",
       "      <td>3991.79</td>\n",
       "      <td>4245.13</td>\n",
       "      <td>4110.77</td>\n",
       "      <td>4332.82</td>\n",
       "      <td>4615.38</td>\n",
       "      <td>4073.33</td>\n",
       "      <td>4621.54</td>\n",
       "      <td>4194.36</td>\n",
       "      <td>4217.44</td>\n",
       "      <td>4162.56</td>\n",
       "      <td>4259.49</td>\n",
       "      <td>4590.26</td>\n",
       "      <td>4333.33</td>\n",
       "      <td>1</td>\n",
       "    </tr>\n",
       "    <tr>\n",
       "      <th>14977</th>\n",
       "      <td>4277.44</td>\n",
       "      <td>3990.77</td>\n",
       "      <td>4246.67</td>\n",
       "      <td>4113.85</td>\n",
       "      <td>4333.33</td>\n",
       "      <td>4615.38</td>\n",
       "      <td>4072.82</td>\n",
       "      <td>4623.59</td>\n",
       "      <td>4193.33</td>\n",
       "      <td>4212.82</td>\n",
       "      <td>4160.51</td>\n",
       "      <td>4257.95</td>\n",
       "      <td>4591.79</td>\n",
       "      <td>4339.49</td>\n",
       "      <td>1</td>\n",
       "    </tr>\n",
       "    <tr>\n",
       "      <th>14978</th>\n",
       "      <td>4284.62</td>\n",
       "      <td>3991.79</td>\n",
       "      <td>4251.28</td>\n",
       "      <td>4122.05</td>\n",
       "      <td>4334.36</td>\n",
       "      <td>4616.41</td>\n",
       "      <td>4080.51</td>\n",
       "      <td>4628.72</td>\n",
       "      <td>4200.00</td>\n",
       "      <td>4220.00</td>\n",
       "      <td>4165.64</td>\n",
       "      <td>4267.18</td>\n",
       "      <td>4596.41</td>\n",
       "      <td>4350.77</td>\n",
       "      <td>1</td>\n",
       "    </tr>\n",
       "    <tr>\n",
       "      <th>14979</th>\n",
       "      <td>4287.69</td>\n",
       "      <td>3997.44</td>\n",
       "      <td>4260.00</td>\n",
       "      <td>4121.03</td>\n",
       "      <td>4333.33</td>\n",
       "      <td>4616.41</td>\n",
       "      <td>4088.72</td>\n",
       "      <td>4638.46</td>\n",
       "      <td>4212.31</td>\n",
       "      <td>4226.67</td>\n",
       "      <td>4167.69</td>\n",
       "      <td>4274.36</td>\n",
       "      <td>4597.95</td>\n",
       "      <td>4350.77</td>\n",
       "      <td>1</td>\n",
       "    </tr>\n",
       "  </tbody>\n",
       "</table>\n",
       "<p>14980 rows × 15 columns</p>\n",
       "</div>"
      ],
      "text/plain": [
       "           AF3       F7       F3      FC5       T7       P7       O1       O2  \\\n",
       "0      4329.23  4009.23  4289.23  4148.21  4350.26  4586.15  4096.92  4641.03   \n",
       "1      4324.62  4004.62  4293.85  4148.72  4342.05  4586.67  4097.44  4638.97   \n",
       "2      4327.69  4006.67  4295.38  4156.41  4336.92  4583.59  4096.92  4630.26   \n",
       "3      4328.72  4011.79  4296.41  4155.90  4343.59  4582.56  4097.44  4630.77   \n",
       "4      4326.15  4011.79  4292.31  4151.28  4347.69  4586.67  4095.90  4627.69   \n",
       "...        ...      ...      ...      ...      ...      ...      ...      ...   \n",
       "14975  4281.03  3990.26  4245.64  4116.92  4333.85  4614.36  4074.87  4625.64   \n",
       "14976  4276.92  3991.79  4245.13  4110.77  4332.82  4615.38  4073.33  4621.54   \n",
       "14977  4277.44  3990.77  4246.67  4113.85  4333.33  4615.38  4072.82  4623.59   \n",
       "14978  4284.62  3991.79  4251.28  4122.05  4334.36  4616.41  4080.51  4628.72   \n",
       "14979  4287.69  3997.44  4260.00  4121.03  4333.33  4616.41  4088.72  4638.46   \n",
       "\n",
       "            P8       T8      FC6       F4       F8      AF4  eyeDetection  \n",
       "0      4222.05  4238.46  4211.28  4280.51  4635.90  4393.85             0  \n",
       "1      4210.77  4226.67  4207.69  4279.49  4632.82  4384.10             0  \n",
       "2      4207.69  4222.05  4206.67  4282.05  4628.72  4389.23             0  \n",
       "3      4217.44  4235.38  4210.77  4287.69  4632.31  4396.41             0  \n",
       "4      4210.77  4244.10  4212.82  4288.21  4632.82  4398.46             0  \n",
       "...        ...      ...      ...      ...      ...      ...           ...  \n",
       "14975  4203.08  4221.54  4171.28  4269.23  4593.33  4340.51             1  \n",
       "14976  4194.36  4217.44  4162.56  4259.49  4590.26  4333.33             1  \n",
       "14977  4193.33  4212.82  4160.51  4257.95  4591.79  4339.49             1  \n",
       "14978  4200.00  4220.00  4165.64  4267.18  4596.41  4350.77             1  \n",
       "14979  4212.31  4226.67  4167.69  4274.36  4597.95  4350.77             1  \n",
       "\n",
       "[14980 rows x 15 columns]"
      ]
     },
     "execution_count": 3,
     "metadata": {},
     "output_type": "execute_result"
    }
   ],
   "source": [
    "data.replace({b'0': '0', b'1': '1'}, inplace=True)\n",
    "data.replace({'0': 0, '1': 1}, inplace=True)\n",
    "data"
   ]
  },
  {
   "cell_type": "markdown",
   "metadata": {},
   "source": [
    "separate the labels from the data\n"
   ]
  },
  {
   "cell_type": "code",
   "execution_count": 4,
   "metadata": {},
   "outputs": [
    {
     "data": {
      "text/plain": [
       "0        0\n",
       "1        0\n",
       "2        0\n",
       "3        0\n",
       "4        0\n",
       "        ..\n",
       "14975    1\n",
       "14976    1\n",
       "14977    1\n",
       "14978    1\n",
       "14979    1\n",
       "Name: eyeDetection, Length: 14980, dtype: int64"
      ]
     },
     "execution_count": 4,
     "metadata": {},
     "output_type": "execute_result"
    }
   ],
   "source": [
    "labels = data.iloc[:, -1]\n",
    "labels"
   ]
  },
  {
   "cell_type": "markdown",
   "metadata": {},
   "source": [
    "Scale the data using min-max technique\n"
   ]
  },
  {
   "cell_type": "code",
   "execution_count": 18,
   "metadata": {},
   "outputs": [
    {
     "data": {
      "text/html": [
       "<div>\n",
       "<style scoped>\n",
       "    .dataframe tbody tr th:only-of-type {\n",
       "        vertical-align: middle;\n",
       "    }\n",
       "\n",
       "    .dataframe tbody tr th {\n",
       "        vertical-align: top;\n",
       "    }\n",
       "\n",
       "    .dataframe thead th {\n",
       "        text-align: right;\n",
       "    }\n",
       "</style>\n",
       "<table border=\"1\" class=\"dataframe\">\n",
       "  <thead>\n",
       "    <tr style=\"text-align: right;\">\n",
       "      <th></th>\n",
       "      <th>AF3</th>\n",
       "      <th>F7</th>\n",
       "      <th>F3</th>\n",
       "      <th>FC5</th>\n",
       "      <th>T7</th>\n",
       "      <th>P7</th>\n",
       "      <th>O1</th>\n",
       "      <th>O2</th>\n",
       "      <th>P8</th>\n",
       "      <th>T8</th>\n",
       "      <th>FC6</th>\n",
       "      <th>F4</th>\n",
       "      <th>F8</th>\n",
       "      <th>AF4</th>\n",
       "    </tr>\n",
       "  </thead>\n",
       "  <tbody>\n",
       "    <tr>\n",
       "      <th>count</th>\n",
       "      <td>14980.000000</td>\n",
       "      <td>14980.000000</td>\n",
       "      <td>14980.000000</td>\n",
       "      <td>14980.000000</td>\n",
       "      <td>14980.000000</td>\n",
       "      <td>14980.000000</td>\n",
       "      <td>14980.000000</td>\n",
       "      <td>14980.000000</td>\n",
       "      <td>14980.000000</td>\n",
       "      <td>14980.000000</td>\n",
       "      <td>14980.000000</td>\n",
       "      <td>14980.000000</td>\n",
       "      <td>14980.000000</td>\n",
       "      <td>14980.000000</td>\n",
       "    </tr>\n",
       "    <tr>\n",
       "      <th>mean</th>\n",
       "      <td>1.096107</td>\n",
       "      <td>3.133353</td>\n",
       "      <td>5.968094</td>\n",
       "      <td>1.024065</td>\n",
       "      <td>5.622524</td>\n",
       "      <td>1.046922</td>\n",
       "      <td>1.032239</td>\n",
       "      <td>1.163109</td>\n",
       "      <td>1.097425</td>\n",
       "      <td>5.473936</td>\n",
       "      <td>3.355699</td>\n",
       "      <td>4.834150</td>\n",
       "      <td>1.267747</td>\n",
       "      <td>1.038420</td>\n",
       "    </tr>\n",
       "    <tr>\n",
       "      <th>std</th>\n",
       "      <td>0.072773</td>\n",
       "      <td>0.083130</td>\n",
       "      <td>0.068462</td>\n",
       "      <td>0.073343</td>\n",
       "      <td>0.071306</td>\n",
       "      <td>0.073161</td>\n",
       "      <td>0.073277</td>\n",
       "      <td>0.097754</td>\n",
       "      <td>0.072754</td>\n",
       "      <td>0.070494</td>\n",
       "      <td>0.095802</td>\n",
       "      <td>0.078805</td>\n",
       "      <td>0.071444</td>\n",
       "      <td>0.074205</td>\n",
       "    </tr>\n",
       "    <tr>\n",
       "      <th>min</th>\n",
       "      <td>1.000000</td>\n",
       "      <td>1.000000</td>\n",
       "      <td>1.000000</td>\n",
       "      <td>1.000000</td>\n",
       "      <td>1.000000</td>\n",
       "      <td>1.000000</td>\n",
       "      <td>1.000000</td>\n",
       "      <td>1.000000</td>\n",
       "      <td>1.000000</td>\n",
       "      <td>1.000000</td>\n",
       "      <td>1.000000</td>\n",
       "      <td>1.000000</td>\n",
       "      <td>1.000000</td>\n",
       "      <td>1.000000</td>\n",
       "    </tr>\n",
       "    <tr>\n",
       "      <th>25%</th>\n",
       "      <td>1.094898</td>\n",
       "      <td>3.098978</td>\n",
       "      <td>5.946886</td>\n",
       "      <td>1.023268</td>\n",
       "      <td>5.602098</td>\n",
       "      <td>1.046116</td>\n",
       "      <td>1.031404</td>\n",
       "      <td>1.124943</td>\n",
       "      <td>1.096470</td>\n",
       "      <td>5.453916</td>\n",
       "      <td>3.324775</td>\n",
       "      <td>4.812254</td>\n",
       "      <td>1.266303</td>\n",
       "      <td>1.037483</td>\n",
       "    </tr>\n",
       "    <tr>\n",
       "      <th>50%</th>\n",
       "      <td>1.095303</td>\n",
       "      <td>3.125884</td>\n",
       "      <td>5.965840</td>\n",
       "      <td>1.023441</td>\n",
       "      <td>5.616836</td>\n",
       "      <td>1.046270</td>\n",
       "      <td>1.031600</td>\n",
       "      <td>1.154009</td>\n",
       "      <td>1.096767</td>\n",
       "      <td>5.470071</td>\n",
       "      <td>3.350763</td>\n",
       "      <td>4.829763</td>\n",
       "      <td>1.267030</td>\n",
       "      <td>1.037645</td>\n",
       "    </tr>\n",
       "    <tr>\n",
       "      <th>75%</th>\n",
       "      <td>1.095812</td>\n",
       "      <td>3.157441</td>\n",
       "      <td>5.978492</td>\n",
       "      <td>1.023607</td>\n",
       "      <td>5.633688</td>\n",
       "      <td>1.046488</td>\n",
       "      <td>1.031812</td>\n",
       "      <td>1.189950</td>\n",
       "      <td>1.097099</td>\n",
       "      <td>5.489079</td>\n",
       "      <td>3.378069</td>\n",
       "      <td>4.849225</td>\n",
       "      <td>1.267879</td>\n",
       "      <td>1.037871</td>\n",
       "    </tr>\n",
       "    <tr>\n",
       "      <th>max</th>\n",
       "      <td>10.000000</td>\n",
       "      <td>10.000000</td>\n",
       "      <td>10.000000</td>\n",
       "      <td>10.000000</td>\n",
       "      <td>10.000000</td>\n",
       "      <td>10.000000</td>\n",
       "      <td>10.000000</td>\n",
       "      <td>10.000000</td>\n",
       "      <td>10.000000</td>\n",
       "      <td>10.000000</td>\n",
       "      <td>10.000000</td>\n",
       "      <td>10.000000</td>\n",
       "      <td>10.000000</td>\n",
       "      <td>10.000000</td>\n",
       "    </tr>\n",
       "  </tbody>\n",
       "</table>\n",
       "</div>"
      ],
      "text/plain": [
       "                AF3            F7            F3           FC5            T7  \\\n",
       "count  14980.000000  14980.000000  14980.000000  14980.000000  14980.000000   \n",
       "mean       1.096107      3.133353      5.968094      1.024065      5.622524   \n",
       "std        0.072773      0.083130      0.068462      0.073343      0.071306   \n",
       "min        1.000000      1.000000      1.000000      1.000000      1.000000   \n",
       "25%        1.094898      3.098978      5.946886      1.023268      5.602098   \n",
       "50%        1.095303      3.125884      5.965840      1.023441      5.616836   \n",
       "75%        1.095812      3.157441      5.978492      1.023607      5.633688   \n",
       "max       10.000000     10.000000     10.000000     10.000000     10.000000   \n",
       "\n",
       "                 P7            O1            O2            P8            T8  \\\n",
       "count  14980.000000  14980.000000  14980.000000  14980.000000  14980.000000   \n",
       "mean       1.046922      1.032239      1.163109      1.097425      5.473936   \n",
       "std        0.073161      0.073277      0.097754      0.072754      0.070494   \n",
       "min        1.000000      1.000000      1.000000      1.000000      1.000000   \n",
       "25%        1.046116      1.031404      1.124943      1.096470      5.453916   \n",
       "50%        1.046270      1.031600      1.154009      1.096767      5.470071   \n",
       "75%        1.046488      1.031812      1.189950      1.097099      5.489079   \n",
       "max       10.000000     10.000000     10.000000     10.000000     10.000000   \n",
       "\n",
       "                FC6            F4            F8           AF4  \n",
       "count  14980.000000  14980.000000  14980.000000  14980.000000  \n",
       "mean       3.355699      4.834150      1.267747      1.038420  \n",
       "std        0.095802      0.078805      0.071444      0.074205  \n",
       "min        1.000000      1.000000      1.000000      1.000000  \n",
       "25%        3.324775      4.812254      1.266303      1.037483  \n",
       "50%        3.350763      4.829763      1.267030      1.037645  \n",
       "75%        3.378069      4.849225      1.267879      1.037871  \n",
       "max       10.000000     10.000000     10.000000     10.000000  "
      ]
     },
     "execution_count": 18,
     "metadata": {},
     "output_type": "execute_result"
    }
   ],
   "source": [
    "\n",
    "# input_data\n",
    "dataset = data.iloc[:, :-1]\n",
    "dataset = ((dataset - dataset.min())/(dataset.max() - dataset.min())\n",
    "           ) * 9 + 1  # because we want the data to be between 1 and 10\n",
    "dataset.describe()"
   ]
  },
  {
   "cell_type": "markdown",
   "metadata": {},
   "source": [
    "split the dataset for training and testing\n"
   ]
  },
  {
   "cell_type": "code",
   "execution_count": 6,
   "metadata": {},
   "outputs": [],
   "source": [
    "\n",
    "X_train, X_test, y_train, y_test = train_test_split(\n",
    "    dataset, labels, test_size=0.1, random_state=42)"
   ]
  },
  {
   "cell_type": "markdown",
   "metadata": {},
   "source": [
    "## K-means implementation\n"
   ]
  },
  {
   "cell_type": "code",
   "execution_count": 7,
   "metadata": {},
   "outputs": [],
   "source": [
    "\n",
    "\n",
    "class K_Means:\n",
    "    def __init__(self, k, random_state=42, max_iter=100):\n",
    "        \"\"\"\n",
    "        k: number of clusters\n",
    "        random_state: random seed for the random generator\n",
    "        max_iter: maximum number of iterations\n",
    "        \"\"\"\n",
    "        self.k = k\n",
    "        self.clusters = []\n",
    "        self.centers = []\n",
    "        self.pred = []\n",
    "        self.inertia = 0\n",
    "        self.max_iter = max_iter\n",
    "        self.random_state = random_state\n",
    "        self.rng = np.random.default_rng(seed=random_state)\n",
    "\n",
    "    def fit(self, X):\n",
    "        \"\"\"\n",
    "        X: dataset to be classified\n",
    "        \"\"\"\n",
    "        k = self.k\n",
    "        X = np.array(X)\n",
    "        self.clusters = []\n",
    "        self.generate_centers(k, X)\n",
    "\n",
    "        for i in range(self.max_iter):\n",
    "            old_centers = np.array([cluster['center']\n",
    "                                   for cluster in self.clusters])\n",
    "            self.group_clusters(X)\n",
    "            self.update_means(X)\n",
    "            new_centers = np.array([cluster['center']\n",
    "                                   for cluster in self.clusters])\n",
    "            self.centers = new_centers\n",
    "\n",
    "            if np.all(old_centers == new_centers):\n",
    "                self.iter = i\n",
    "                break\n",
    "\n",
    "        self.pred = self.predict_clusters(X)\n",
    "        self.calculate_inertia()\n",
    "\n",
    "    def generate_centers(self, k, X):\n",
    "        \"\"\"\n",
    "        k: number of centers\n",
    "        X: input data matrix\n",
    "        \"\"\"\n",
    "        sampled_indices = self.rng.choice(len(X), k, replace=False)\n",
    "        centers = X[sampled_indices]\n",
    "        self.clusters = [{'center': center, 'points': []}\n",
    "                         for center in centers]\n",
    "\n",
    "    def group_clusters(self, X):\n",
    "        \"\"\"\n",
    "        Identify the closest cluster/group for each point in the dataset.\n",
    "        \"\"\"\n",
    "        centers = np.array([cluster['center'] for cluster in self.clusters])\n",
    "        distances = np.linalg.norm(X[:, np.newaxis, :] - centers, axis=2)\n",
    "        closest_clusters = np.argmin(distances, axis=1)\n",
    "\n",
    "        for i, cluster_idx in enumerate(closest_clusters):\n",
    "            self.clusters[cluster_idx]['points'].append(X[i])\n",
    "\n",
    "    def update_means(self, X):\n",
    "        \"\"\"\n",
    "        Update the centers of each cluster after regrouping. Resets the points \n",
    "        assigned to that cluster afterwards for iteration.\n",
    "        \"\"\"\n",
    "        for cluster in self.clusters:\n",
    "            if len(cluster['points']) > 0:\n",
    "                cluster['center'] = np.mean(cluster['points'], axis=0)\n",
    "                # Keep track of original points\n",
    "                cluster['original_points'] = cluster['points'].copy()\n",
    "                cluster['points'] = []\n",
    "\n",
    "    def predict_clusters(self, X):\n",
    "        \"\"\"\n",
    "        same thing to group_clusters, but also returns an array of the indices of \n",
    "        where each point is grouped.\n",
    "        \"\"\"\n",
    "        centers = np.array([cluster['center'] for cluster in self.clusters])\n",
    "        distances = np.linalg.norm(X[:, np.newaxis, :] - centers, axis=2)\n",
    "        return np.argmin(distances, axis=1)\n",
    "\n",
    "    def calculate_inertia(self):\n",
    "        self.inertia = sum(\n",
    "            np.sum(np.linalg.norm(np.array(\n",
    "                cluster['original_points']) - np.array(cluster['center']), axis=1) ** 2)\n",
    "            if 'original_points' in cluster else 0  # Skip clusters without original points\n",
    "            for cluster in self.clusters\n",
    "        )"
   ]
  },
  {
   "cell_type": "markdown",
   "metadata": {},
   "source": [
    "## Comparision with built-in impelemntation\n"
   ]
  },
  {
   "cell_type": "markdown",
   "metadata": {},
   "source": [
    "Test and compare our K-means implementation and compare it with results from the built-in k-means from sklearn on randomly generated data.\n"
   ]
  },
  {
   "cell_type": "code",
   "execution_count": 8,
   "metadata": {},
   "outputs": [
    {
     "data": {
      "image/png": "[encoded data removed]",
      "text/plain": [
       "<Figure size 640x480 with 1 Axes>"
      ]
     },
     "metadata": {},
     "output_type": "display_data"
    }
   ],
   "source": [
    "from sklearn.datasets import make_blobs\n",
    "\n",
    "X, y = make_blobs(n_samples=500, n_features=2, centers=3, random_state=23)\n",
    "np.random.seed(23)\n",
    "\n",
    "kmeans = K_Means(3)\n",
    "kmeans.fit(X)\n",
    "pred = kmeans.predict_clusters(X)\n",
    "\n",
    "plt.scatter(X[:, 0], X[:, 1], c=pred)\n",
    "for cluster in kmeans.clusters:\n",
    "    center = cluster['center']\n",
    "    plt.scatter(center[0], center[1], marker=\"^\", c='red')\n",
    "plt.title(\"Our K-means clustering algorithm on randomly generated data\")\n",
    "plt.show()"
   ]
  },
  {
   "cell_type": "markdown",
   "metadata": {},
   "source": [
    "compare it with the implementation from sklearn on similar data.\n"
   ]
  },
  {
   "cell_type": "code",
   "execution_count": 9,
   "metadata": {},
   "outputs": [
    {
     "name": "stderr",
     "output_type": "stream",
     "text": [
      "c:\\Python311\\Lib\\site-packages\\sklearn\\cluster\\_kmeans.py:870: FutureWarning: The default value of `n_init` will change from 10 to 'auto' in 1.4. Set the value of `n_init` explicitly to suppress the warning\n",
      "  warnings.warn(\n"
     ]
    },
    {
     "name": "stdout",
     "output_type": "stream",
     "text": [
      "[[ 0.293089    8.93255251]\n",
      " [ 5.1482619  -4.38609379]\n",
      " [-5.64869015  3.64917816]]\n"
     ]
    },
    {
     "data": {
      "image/png": "[encoded data removed]",
      "text/plain": [
       "<Figure size 640x480 with 1 Axes>"
      ]
     },
     "metadata": {},
     "output_type": "display_data"
    }
   ],
   "source": [
    "from sklearn.cluster import KMeans\n",
    "\n",
    "kmeans = KMeans(n_clusters=3, random_state=23)\n",
    "sk_kmeans = kmeans.fit(X)\n",
    "centers = sk_kmeans.cluster_centers_\n",
    "pred = sk_kmeans.predict(X)\n",
    "print(centers)\n",
    "\n",
    "plt.scatter(X[:, 0], X[:, 1], c=pred)\n",
    "for center in centers:\n",
    "    plt.scatter(center[0], center[1], marker=\"^\", c='red')\n",
    "plt.title(\"Sklearn's K-means performance on the same random data\")\n",
    "plt.show()"
   ]
  },
  {
   "cell_type": "markdown",
   "metadata": {},
   "source": [
    "## Elbow Method for best K\n"
   ]
  },
  {
   "cell_type": "markdown",
   "metadata": {},
   "source": [
    "Find the optimal number of clusters using the elbow for the dataset\n"
   ]
  },
  {
   "cell_type": "code",
   "execution_count": 10,
   "metadata": {},
   "outputs": [],
   "source": [
    "def optimize_elbow_plot(dataset, start, end, step=1):\n",
    "    k_values = range(start, end, step)\n",
    "    inertia_values = []\n",
    "\n",
    "    for k in k_values:\n",
    "        kmeans = K_Means(k)\n",
    "        kmeans.fit(dataset)\n",
    "        inertia_values.append(kmeans.inertia)\n",
    "        print(f'{k} Inertia: {kmeans.inertia} iterations: {kmeans.iter}')\n",
    "\n",
    "    # Plot the Elbow Curve\n",
    "    plt.plot(k_values, inertia_values, marker='o')\n",
    "    plt.title('Elbow Method for Optimal K')\n",
    "    plt.xlabel('Number of Clusters (K)')\n",
    "    plt.ylabel('Inertia')\n",
    "    plt.show()"
   ]
  },
  {
   "cell_type": "code",
   "execution_count": 76,
   "metadata": {},
   "outputs": [
    {
     "name": "stdout",
     "output_type": "stream",
     "text": [
      "1 Inertia: 1256.6869831167435 iterations: 1\n",
      "101 Inertia: 543.8104917719681 iterations: 67\n",
      "201 Inertia: 537.3759422854292 iterations: 69\n",
      "301 Inertia: 265.7908984477306 iterations: 63\n",
      "401 Inertia: 264.1139398201878 iterations: 43\n",
      "501 Inertia: 262.7922790489301 iterations: 38\n",
      "601 Inertia: 261.859997676161 iterations: 29\n",
      "701 Inertia: 261.1904554787836 iterations: 32\n",
      "801 Inertia: 260.50110346099603 iterations: 28\n",
      "901 Inertia: 259.931813228983 iterations: 23\n",
      "1001 Inertia: 259.5242851302668 iterations: 23\n"
     ]
    },
    {
     "data": {
      "image/png": "[encoded data removed]",
      "text/plain": [
       "<Figure size 640x480 with 1 Axes>"
      ]
     },
     "metadata": {},
     "output_type": "display_data"
    }
   ],
   "source": [
    "optimize_elbow_plot(dataset, 1, 1002, 100)"
   ]
  },
  {
   "cell_type": "markdown",
   "metadata": {},
   "source": [
    "So we choose K to be 300. So, when we choose the number of the number of clusters on the RBF network later\n"
   ]
  },
  {
   "cell_type": "markdown",
   "metadata": {},
   "source": [
    "## RBF network implementation\n"
   ]
  },
  {
   "cell_type": "code",
   "execution_count": 19,
   "metadata": {},
   "outputs": [],
   "source": [
    "class RBFNetwork:\n",
    "    def __init__(self, num_centers, learning_rate=0.001, random_state=42):\n",
    "        self.num_centers = num_centers\n",
    "        # self.random_state = random_state\n",
    "        self.kmeans = K_Means(num_centers, random_state=random_state)\n",
    "        self.rbf_centers = None\n",
    "        self.rbf_width = None\n",
    "        self.learning_rate = learning_rate\n",
    "        self.weights = None\n",
    "\n",
    "    def fit(self, X, y):\n",
    "\n",
    "        # Fit K-means to get RBF centers\n",
    "        self.kmeans.fit(X)\n",
    "        X = np.array(X)\n",
    "        print(np.array(self.kmeans.centers))\n",
    "        self.rbf_centers = np.array(self.kmeans.centers)\n",
    "\n",
    "        # standard deviation for width (spread)\n",
    "        distances = np.sqrt(\n",
    "            ((X[:, np.newaxis, :] - self.rbf_centers) ** 2).sum(axis=2))\n",
    "        self.rbf_width = np.std(distances)\n",
    "\n",
    "        # Apply RBF activation to get features and then add bias 1\n",
    "        rbf_features = np.exp(-(distances ** 2) / (2 * (self.rbf_width ** 2)))\n",
    "        rbf_features = np.c_[rbf_features, np.ones(X.shape[0])]\n",
    "\n",
    "        # solve the linear system\n",
    "        self.weights = np.linalg.pinv(rbf_features) @ y\n",
    "\n",
    "    def predict(self, X):\n",
    "        X = np.array(X)\n",
    "        distances = np.sqrt(\n",
    "            ((X[:, np.newaxis, :] - self.rbf_centers) ** 2).sum(axis=2))\n",
    "        rbf_features = np.exp(-(distances ** 2) / (2 * (self.rbf_width ** 2)))\n",
    "\n",
    "        # Add a bias term to the features\n",
    "        rbf_features = np.c_[rbf_features, np.ones(X.shape[0])]\n",
    "\n",
    "        # Make predictions using the learned weights\n",
    "        predictions = rbf_features @ self.weights\n",
    "\n",
    "        return predictions\n",
    "\n",
    "    def guassian_kernel(self, X, centroid):\n",
    "        vector = X - centroid\n",
    "        return np.exp(-(np.linalg.norm(vector)**2)/(2*(np.std(vector)**2)))"
   ]
  },
  {
   "cell_type": "markdown",
   "metadata": {},
   "source": [
    "Evaluate the RBFNetwork on the test data, using the initial K-means implementation. We have chosen K to be 300 by using the elbow method.\n"
   ]
  },
  {
   "cell_type": "markdown",
   "metadata": {},
   "source": [
    "## Evaluation on testing set\n"
   ]
  },
  {
   "cell_type": "markdown",
   "metadata": {},
   "source": [
    "Evaluate the RBFNetwork on the test data, using K-means plus implementation. We have chosen K to be 300 by using the elbow method.\n"
   ]
  },
  {
   "cell_type": "markdown",
   "metadata": {},
   "source": [
    "Evaluate our model based on its accuracy on testing set\n"
   ]
  },
  {
   "cell_type": "code",
   "execution_count": 12,
   "metadata": {},
   "outputs": [],
   "source": [
    "import time\n",
    "\n",
    "\n",
    "def evaluate_rbf_network(k):\n",
    "    start_time = time.time()\n",
    "    rbf_net = RBFNetwork(k)\n",
    "    rbf_net.fit(X_train, y_train)\n",
    "    pred = rbf_net.predict(X_test)\n",
    "\n",
    "    count = 0\n",
    "    for i in range(len(pred)):\n",
    "        if pred[i] >= 0.5:\n",
    "            value = 1\n",
    "        else:\n",
    "            value = 0\n",
    "        if (value == y_test.values[i]):\n",
    "            count += 1\n",
    "    accuracy = count/len(pred)\n",
    "    end_time = time.time()\n",
    "\n",
    "    return (accuracy, end_time-start_time)"
   ]
  },
  {
   "cell_type": "markdown",
   "metadata": {},
   "source": [
    "for k = 300\n"
   ]
  },
  {
   "cell_type": "code",
   "execution_count": 20,
   "metadata": {},
   "outputs": [
    {
     "name": "stdout",
     "output_type": "stream",
     "text": [
      "[[1.0958783  3.16802126 5.97570429 ... 4.84473968 1.26771216 1.0378103 ]\n",
      " [1.09527246 3.13552356 5.94352893 ... 4.82286559 1.26668294 1.03766581]\n",
      " [1.09512698 3.12230622 5.96677118 ... 4.82575377 1.26671928 1.03755182]\n",
      " ...\n",
      " [1.09530479 3.1140884  5.95591285 ... 4.84658441 1.2688884  1.03778893]\n",
      " [1.09552937 3.20014526 5.97386016 ... 4.82801115 1.26718597 1.03760013]\n",
      " [1.09364285 3.09972362 5.92587523 ... 4.77965659 1.26367539 1.03677713]]\n",
      "\n",
      "\n",
      " for 300 centers, accuracy = 0.8551401869158879, time taken = 26.963091373443604\n"
     ]
    }
   ],
   "source": [
    "accuracy, time_taken = evaluate_rbf_network(300)\n",
    "\n",
    "print(\n",
    "    f'\\n\\n for {300} centers, accuracy = {accuracy}, time taken = {time_taken}')"
   ]
  },
  {
   "cell_type": "markdown",
   "metadata": {},
   "source": [
    "for k = 3000\n"
   ]
  },
  {
   "cell_type": "code",
   "execution_count": 17,
   "metadata": {},
   "outputs": [
    {
     "name": "stdout",
     "output_type": "stream",
     "text": [
      "[[1.09529266 3.10516602 5.99139459 ... 4.87321403 1.26701008 1.03773325]\n",
      " [1.09438913 3.11886107 5.92170498 ... 4.79113653 1.26411943 1.03702026]\n",
      " [1.09323182 3.18566905 5.93627147 ... 4.73847075 1.26052001 1.03638173]\n",
      " ...\n",
      " [1.09555125 3.11679001 5.97785673 ... 4.86945692 1.26763061 1.03792919]\n",
      " [1.0956023  3.17877499 5.96426853 ... 4.830749   1.26666617 1.03780001]\n",
      " [1.09295902 3.0579164  5.90657879 ... 4.77286068 1.26338402 1.03665021]]\n",
      "\n",
      "\n",
      " for 3000 centers, accuracy = 0.9198931909212283, time taken = 128.1837203502655\n"
     ]
    }
   ],
   "source": [
    "accuracy, time_taken = evaluate_rbf_network(3000)\n",
    "\n",
    "print(\n",
    "    f'\\n\\n for {3000} centers, accuracy = {accuracy}, time taken = {time_taken}')"
   ]
  },
  {
   "cell_type": "markdown",
   "metadata": {},
   "source": [
    "### Evaluate the performance for different values of k and plot the results\n"
   ]
  },
  {
   "cell_type": "code",
   "execution_count": 13,
   "metadata": {},
   "outputs": [
    {
     "name": "stdout",
     "output_type": "stream",
     "text": [
      "[[1.09617252 3.13325773 5.96807831 1.02413126 5.62263312 1.04698921\n",
      "  1.03230677 1.16340978 1.09749403 5.47411459 3.35598067 4.83423585\n",
      "  1.26781116 1.03849713]]\n",
      "[[1.09572726 3.1235497  5.98567517 ... 4.85686119 1.26741113 1.03785744]\n",
      " [1.09567843 3.18053905 5.97855695 ... 4.83843316 1.26680586 1.03774294]\n",
      " [1.09354456 3.15653462 5.89866541 ... 4.7465282  1.26370143 1.03675654]\n",
      " ...\n",
      " [1.09553797 3.15086228 5.9720425  ... 4.83493418 1.26730621 1.03771345]\n",
      " [1.0961834  3.21431106 5.9893483  ... 4.85031123 1.26773282 1.03790154]\n",
      " [1.0943259  3.16773372 5.92781513 ... 4.776296   1.26470594 1.03708238]]\n",
      "[[1.09576342 3.150845   5.95830975 ... 4.84011963 1.26732523 1.03785134]\n",
      " [1.09713004 3.18486233 5.99159406 ... 4.86327433 1.2681992  1.03833271]\n",
      " [1.0943918  3.09822566 5.92791589 ... 4.79031345 1.26567023 1.03724402]\n",
      " ...\n",
      " [1.09518846 3.11941856 5.94916369 ... 4.8173286  1.26702618 1.03759754]\n",
      " [1.09502787 3.12925946 5.96340168 ... 4.80693129 1.2663458  1.03752235]\n",
      " [1.09740182 3.11624882 5.97225179 ... 4.86355886 1.26935049 1.0385307 ]]\n",
      "[[1.0958783  3.16802126 5.97570429 ... 4.84473968 1.26771216 1.0378103 ]\n",
      " [1.09527246 3.13552356 5.94352893 ... 4.82286559 1.26668294 1.03766581]\n",
      " [1.09512698 3.12230622 5.96677118 ... 4.82575377 1.26671928 1.03755182]\n",
      " ...\n",
      " [1.09530479 3.1140884  5.95591285 ... 4.84658441 1.2688884  1.03778893]\n",
      " [1.09552937 3.20014526 5.97386016 ... 4.82801115 1.26718597 1.03760013]\n",
      " [1.09364285 3.09972362 5.92587523 ... 4.77965659 1.26367539 1.03677713]]\n",
      "[[1.09521702 3.10731334 5.96951406 ... 4.83630273 1.26658487 1.03765668]\n",
      " [1.09493411 3.10121887 5.95526675 ... 4.81528461 1.26616443 1.03744222]\n",
      " [1.0954113  3.14729285 5.95153052 ... 4.82662392 1.26689767 1.03763597]\n",
      " ...\n",
      " [1.09525063 3.11357907 5.95432609 ... 4.84236395 1.26891327 1.03776056]\n",
      " [1.09546898 3.1696973  5.96449307 ... 4.82493977 1.26744059 1.03768673]\n",
      " [1.09352562 3.09942265 5.92533871 ... 4.78033881 1.26337603 1.03670072]]\n",
      "[[1.09511952 3.10090357 5.9650963  ... 4.83288665 1.26721983 1.03760672]\n",
      " [1.09541218 3.14406666 5.96900843 ... 4.82648574 1.26578324 1.03765345]\n",
      " [1.09432627 3.06626798 5.93984892 ... 4.80549666 1.26568095 1.0373459 ]\n",
      " ...\n",
      " [1.09535655 3.11479689 5.95845834 ... 4.85092621 1.26885699 1.0377845 ]\n",
      " [1.09552253 3.17530939 5.96551428 ... 4.8205018  1.26727275 1.03767999]\n",
      " [1.09337774 3.10148904 5.9220539  ... 4.77679435 1.26303169 1.03661821]]\n",
      "[[1.09507377 3.11488413 5.94631633 ... 4.82684953 1.26754564 1.03763482]\n",
      " [1.09502941 3.11900389 5.9649915  ... 4.81631367 1.26677491 1.03751795]\n",
      " [1.09547529 3.1439524  5.95789892 ... 4.82330203 1.26711941 1.03768335]\n",
      " ...\n",
      " [1.09572385 3.09665249 5.97256468 ... 4.87962472 1.26912235 1.0380172 ]\n",
      " [1.09540047 3.16906541 5.95810263 ... 4.81770599 1.26678564 1.03764109]\n",
      " [1.09314458 3.08959056 5.91474546 ... 4.77205292 1.26276172 1.03648658]]\n",
      "[[1.09497687 3.09642179 5.96406821 ... 4.80715644 1.26636301 1.0375513 ]\n",
      " [1.09801316 3.23897811 6.09090088 ... 4.96972459 1.27279102 1.0389546 ]\n",
      " [1.095354   3.11567642 5.97352531 ... 4.83685698 1.26765397 1.03780924]\n",
      " ...\n",
      " [1.09560967 3.11962363 5.97295955 ... 4.87378942 1.26795493 1.03799379]\n",
      " [1.09548987 3.18248439 5.96861404 ... 4.82490658 1.26674214 1.03764495]\n",
      " [1.09295902 3.0579164  5.90657879 ... 4.77286068 1.26338402 1.03665021]]\n",
      "[[1.09529266 3.10516602 5.99139459 ... 4.87321403 1.26701008 1.03773325]\n",
      " [1.09438913 3.11886107 5.92170498 ... 4.79113653 1.26411943 1.03702026]\n",
      " [1.09323182 3.18566905 5.93627147 ... 4.73847075 1.26052001 1.03638173]\n",
      " ...\n",
      " [1.09555125 3.11679001 5.97785673 ... 4.86945692 1.26763061 1.03792919]\n",
      " [1.0956023  3.17877499 5.96426853 ... 4.830749   1.26666617 1.03780001]\n",
      " [1.09295902 3.0579164  5.90657879 ... 4.77286068 1.26338402 1.03665021]]\n"
     ]
    },
    {
     "data": {
      "image/png": "[encoded data removed]",
      "text/plain": [
       "<Figure size 1000x500 with 2 Axes>"
      ]
     },
     "metadata": {},
     "output_type": "display_data"
    }
   ],
   "source": [
    "k_values = [1, 100, 200, 300, 400, 500, 1000, 2000, 3000]\n",
    "evaluations = [evaluate_rbf_network(k) for k in k_values]\n",
    "\n",
    "accuracies = [evaluation[0] for evaluation in evaluations]\n",
    "times = [evaluation[1] for evaluation in evaluations]\n",
    "\n",
    "# k vs accuracy\n",
    "plt.figure(figsize=(10, 5))\n",
    "plt.subplot(1, 2, 1)\n",
    "plt.plot(k_values, accuracies, marker='o')\n",
    "plt.title('k vs Accuracy')\n",
    "plt.xlabel('k values')\n",
    "plt.ylabel('Accuracy')\n",
    "\n",
    "# k vs time\n",
    "plt.subplot(1, 2, 2)\n",
    "plt.plot(k_values, times, marker='o')\n",
    "plt.title('k vs Time')\n",
    "plt.xlabel('k values')\n",
    "plt.ylabel('Time (seconds)')\n",
    "\n",
    "\n",
    "plt.tight_layout()\n",
    "plt.show()"
   ]
  }
 ],
 "metadata": {
  "kernelspec": {
   "display_name": "Python 3",
   "language": "python",
   "name": "python3"
  },
  "language_info": {
   "codemirror_mode": {
    "name": "ipython",
    "version": 3
   },
   "file_extension": ".py",
   "mimetype": "text/x-python",
   "name": "python",
   "nbconvert_exporter": "python",
   "pygments_lexer": "ipython3",
   "version": "3.11.0"
  }
 },
 "nbformat": 4,
 "nbformat_minor": 2
}
